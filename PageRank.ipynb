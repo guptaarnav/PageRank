{
 "cells": [
  {
   "cell_type": "code",
   "execution_count": 1,
   "metadata": {},
   "outputs": [
    {
     "ename": "ArgumentError",
     "evalue": "ArgumentError: \"//Users//arnavgupta//Documents//Fall19//241//cali-links.csv\" is not a valid file",
     "output_type": "error",
     "traceback": [
      "ArgumentError: \"//Users//arnavgupta//Documents//Fall19//241//cali-links.csv\" is not a valid file",
      "",
      "Stacktrace:",
      " [1] #File#1(::Int64, ::Bool, ::Int64, ::Nothing, ::Int64, ::Nothing, ::Bool, ::Nothing, ::Bool, ::Array{String,1}, ::String, ::String, ::Bool, ::Char, ::Nothing, ::Nothing, ::Char, ::Nothing, ::Nothing, ::Nothing, ::Nothing, ::Nothing, ::Dict{Type,Type}, ::Symbol, ::Bool, ::Bool, ::Bool, ::Bool, ::Base.Iterators.Pairs{Union{},Union{},Tuple{},NamedTuple{(),Tuple{}}}, ::Type, ::String) at /home/jrun/.julia/packages/CSV/eWuJV/src/CSV.jl:135",
      " [2] Type at /home/jrun/.julia/packages/CSV/eWuJV/src/CSV.jl:135 [inlined]",
      " [3] #read#105(::Bool, ::Dict{Int64,Function}, ::Base.Iterators.Pairs{Union{},Union{},Tuple{},NamedTuple{(),Tuple{}}}, ::Function, ::String, ::Type) at /home/jrun/.julia/packages/CSV/eWuJV/src/CSV.jl:310",
      " [4] read at /home/jrun/.julia/packages/CSV/eWuJV/src/CSV.jl:300 [inlined] (repeats 2 times)",
      " [5] top-level scope at In[1]:4"
     ]
    }
   ],
   "source": [
    "using Pkg;\n",
    "using CSV;\n",
    "using DataFrames;\n",
    "using LinearAlgebra;\n",
    "\n",
    "links = CSV.read(\"//Users//arnavgupta//Documents//Fall19//241//cali-links.csv\")\n",
    "outlinks = CSV.read(\"//Users//arnavgupta//Documents//Fall19//241//cali-outlinks.csv\")\n",
    "\n",
    "\n"
   ]
  },
  {
   "cell_type": "code",
   "execution_count": null,
   "metadata": {},
   "outputs": [],
   "source": [
    "n = size(links)[1]\n",
    "# n = number of websites in graph \n",
    "total_num_outlinks = size(outlinks)[1]\n",
    "# total_num_outlinks = number of directed edges in graph\n",
    "\n",
    "# We first create an adjacency matrix A for the directed graph\n",
    "A = zeros(n,n);\n",
    "for i = 1:total_num_outlinks\n",
    "#     Note: dataframe is 0-indexed, so we must increment the indices here \n",
    "    A[outlinks.from[i] + 1, outlinks.to[i] + 1] = 1\n",
    "\n",
    "end\n",
    "\n",
    "\n",
    "alpha = 0.85;\n",
    "# alpha = the dampening factor that correlates to how likely a web surfer\n",
    "# is to keep following hyperlinks he finds on the current site versus \n",
    "# teleporting to another random site"
   ]
  },
  {
   "cell_type": "code",
   "execution_count": 6,
   "metadata": {},
   "outputs": [
    {
     "data": {
      "text/plain": [
       "false"
      ]
     },
     "execution_count": 6,
     "metadata": {},
     "output_type": "execute_result"
    }
   ],
   "source": [
    "# Now we create the matrix H from A where each nonzero row is normalized\n",
    "for i = 1:n\n",
    "    row_outlinks = sum(A[i, :])\n",
    "    for k = 1:n\n",
    "        if A[i, k] != 0\n",
    "            A[i, k] = A[i,k]/row_outlinks\n",
    "        end\n",
    "    end\n",
    "end\n",
    "H = A"
   ]
  },
  {
   "cell_type": "code",
   "execution_count": null,
   "metadata": {},
   "outputs": [],
   "source": [
    "# This matrix H must be adjusted to provide the property of stochasticity\n",
    "# That is, to eliminate rank sinks by allowing the random surfer to randomly teleport anywhere\n",
    "# if he encounters a dangling node (a webpage with no outlinks)\n",
    "\n",
    "We construct dangling node vector a to be a binary vector with value 1 at index i \n",
    "iff the ith webpage is a dangling node\n",
    "\n",
    "a = zeros(n);\n",
    "for i = 1:n\n",
    "    if sum(A[i, :]) == 0\n",
    "        a[i] = 1;\n",
    "    end\n",
    "end\n",
    "    \n",
    "e = ones(n)"
   ]
  },
  {
   "cell_type": "code",
   "execution_count": null,
   "metadata": {},
   "outputs": [],
   "source": [
    "# Finally, we perform 50 iterations of the power method\n",
    "\n",
    "pi0= (1/n) *ones(n)\n",
    "pi = pi0\n",
    "\n",
    "for i=1:50\n",
    "    tpi = (alpha) * transpose(pi) * H + (alpha * transpose(pi) * a - 1 - alpha) * transpose(e) \\ n\n",
    "    pi = transpose(tpi)\n",
    "end\n"
   ]
  },
  {
   "cell_type": "code",
   "execution_count": null,
   "metadata": {},
   "outputs": [],
   "source": []
  }
 ],
 "metadata": {
  "kernelspec": {
   "display_name": "Julia 1.0.3",
   "language": "julia",
   "name": "julia-1.0"
  },
  "language_info": {
   "file_extension": ".jl",
   "mimetype": "application/julia",
   "name": "julia",
   "version": "1.0.3"
  }
 },
 "nbformat": 4,
 "nbformat_minor": 2
}
